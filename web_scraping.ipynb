{
 "cells": [
  {
   "cell_type": "markdown",
   "metadata": {},
   "source": [
    "# Web Mining and Applied NLP (44-620)\n",
    "\n",
    "## Web Scraping and NLP with Requests, BeautifulSoup, and spaCy\n",
    "\n",
    "## Branton Dawson [Web Scraping](https://github.com/bjdawson23/620-mod6-web-scraping)\n",
    "\n",
    "Perform the tasks described in the Markdown cells below.  When you have completed the assignment make sure your code cells have all been run (and have output beneath them) and ensure you have committed and pushed ALL of your changes to your assignment repository.\n",
    "\n",
    "Every question that requires you to write code will have a code cell underneath it; you may either write your entire solution in that cell or write it in a python file (`.py`), then import and run the appropriate code to answer the question."
   ]
  },
  {
   "cell_type": "code",
   "execution_count": 30,
   "metadata": {},
   "outputs": [
    {
     "name": "stdout",
     "output_type": "stream",
     "text": [
      "Package                   Version\n",
      "------------------------- --------------\n",
      "annotated-types           0.7.0\n",
      "anyio                     4.9.0\n",
      "argon2-cffi               25.1.0\n",
      "argon2-cffi-bindings      21.2.0\n",
      "arrow                     1.3.0\n",
      "asttokens                 3.0.0\n",
      "async-lru                 2.0.5\n",
      "attrs                     25.3.0\n",
      "babel                     2.17.0\n",
      "beautifulsoup4            4.13.4\n",
      "bleach                    6.2.0\n",
      "blis                      1.3.0\n",
      "catalogue                 2.0.10\n",
      "certifi                   2025.7.14\n",
      "cffi                      1.17.1\n",
      "charset-normalizer        3.4.2\n",
      "click                     8.2.1\n",
      "cloudpathlib              0.21.1\n",
      "colorama                  0.4.6\n",
      "comm                      0.2.2\n",
      "confection                0.1.5\n",
      "contourpy                 1.3.2\n",
      "cycler                    0.12.1\n",
      "cymem                     2.0.11\n",
      "debugpy                   1.8.15\n",
      "decorator                 5.2.1\n",
      "defusedxml                0.7.1\n",
      "en_core_web_sm            3.8.0\n",
      "executing                 2.2.0\n",
      "fastjsonschema            2.21.1\n",
      "fonttools                 4.59.0\n",
      "fqdn                      1.5.1\n",
      "h11                       0.16.0\n",
      "html5lib                  1.1\n",
      "httpcore                  1.0.9\n",
      "httpx                     0.28.1\n",
      "idna                      3.10\n",
      "ipykernel                 6.30.0\n",
      "ipython                   9.4.0\n",
      "ipython_pygments_lexers   1.1.1\n",
      "isoduration               20.11.0\n",
      "jedi                      0.19.2\n",
      "Jinja2                    3.1.6\n",
      "joblib                    1.5.1\n",
      "json5                     0.12.0\n",
      "jsonpointer               3.0.0\n",
      "jsonschema                4.25.0\n",
      "jsonschema-specifications 2025.4.1\n",
      "jupyter_client            8.6.3\n",
      "jupyter_core              5.8.1\n",
      "jupyter-events            0.12.0\n",
      "jupyter-lsp               2.2.6\n",
      "jupyter_server            2.16.0\n",
      "jupyter_server_terminals  0.5.3\n",
      "jupyterlab                4.4.5\n",
      "jupyterlab_pygments       0.3.0\n",
      "jupyterlab_server         2.27.3\n",
      "kiwisolver                1.4.8\n",
      "langcodes                 3.5.0\n",
      "language_data             1.3.0\n",
      "lark                      1.2.2\n",
      "marisa-trie               1.2.1\n",
      "markdown-it-py            3.0.0\n",
      "MarkupSafe                3.0.2\n",
      "matplotlib                3.10.3\n",
      "matplotlib-inline         0.1.7\n",
      "mdurl                     0.1.2\n",
      "mistune                   3.1.3\n",
      "murmurhash                1.0.13\n",
      "nbclient                  0.10.2\n",
      "nbconvert                 7.16.6\n",
      "nbformat                  5.10.4\n",
      "nest-asyncio              1.6.0\n",
      "nltk                      3.9.1\n",
      "notebook_shim             0.2.4\n",
      "numpy                     2.3.1\n",
      "overrides                 7.7.0\n",
      "packaging                 25.0\n",
      "pandocfilters             1.5.1\n",
      "parso                     0.8.4\n",
      "pillow                    11.3.0\n",
      "pip                       25.1.1\n",
      "platformdirs              4.3.8\n",
      "preshed                   3.0.10\n",
      "prometheus_client         0.22.1\n",
      "prompt_toolkit            3.0.51\n",
      "psutil                    7.0.0\n",
      "pure_eval                 0.2.3\n",
      "pycparser                 2.22\n",
      "pydantic                  2.11.7\n",
      "pydantic_core             2.33.2\n",
      "Pygments                  2.19.2\n",
      "pyparsing                 3.2.3\n",
      "python-dateutil           2.9.0.post0\n",
      "python-json-logger        3.3.0\n",
      "pywin32                   311\n",
      "pywinpty                  2.0.15\n",
      "PyYAML                    6.0.2\n",
      "pyzmq                     27.0.0\n",
      "referencing               0.36.2\n",
      "regex                     2024.11.6\n",
      "requests                  2.32.4\n",
      "rfc3339-validator         0.1.4\n",
      "rfc3986-validator         0.1.1\n",
      "rfc3987-syntax            1.1.0\n",
      "rich                      14.0.0\n",
      "rpds-py                   0.26.0\n",
      "Send2Trash                1.8.3\n",
      "setuptools                80.9.0\n",
      "shellingham               1.5.4\n",
      "six                       1.17.0\n",
      "smart_open                7.3.0.post1\n",
      "sniffio                   1.3.1\n",
      "soupsieve                 2.7\n",
      "spacy                     3.8.7\n",
      "spacy-legacy              3.0.12\n",
      "spacy-loggers             1.0.5\n",
      "spacytextblob             5.0.0\n",
      "srsly                     2.5.1\n",
      "stack-data                0.6.3\n",
      "terminado                 0.18.1\n",
      "textblob                  0.19.0\n",
      "thinc                     8.3.6\n",
      "tinycss2                  1.4.0\n",
      "tornado                   6.5.1\n",
      "tqdm                      4.67.1\n",
      "traitlets                 5.14.3\n",
      "typer                     0.16.0\n",
      "types-python-dateutil     2.9.0.20250708\n",
      "typing_extensions         4.14.1\n",
      "typing-inspection         0.4.1\n",
      "uri-template              1.3.0\n",
      "urllib3                   2.5.0\n",
      "wasabi                    1.1.3\n",
      "wcwidth                   0.2.13\n",
      "weasel                    0.4.1\n",
      "webcolors                 24.11.1\n",
      "webencodings              0.5.1\n",
      "websocket-client          1.8.0\n",
      "wheel                     0.45.1\n",
      "wrapt                     1.17.2\n",
      "All prereqs installed.\n"
     ]
    }
   ],
   "source": [
    "# Create and activate a Python virtual environment. \n",
    "# We also import pickle and Counter (included in the Python Standard Library).\n",
    "\n",
    "from collections import Counter\n",
    "import pickle\n",
    "import requests\n",
    "import spacy\n",
    "from bs4 import BeautifulSoup\n",
    "import matplotlib.pyplot as plt\n",
    "import matplotlib.pyplot as plt\n",
    "import numpy as np\n",
    "try:\n",
    "    nlp = spacy.load(\"en_core_web_sm\")\n",
    "except OSError:\n",
    "    import subprocess\n",
    "    subprocess.run([\"python\", \"-m\", \"spacy\", \"download\", \"en_core_web_sm\"])\n",
    "    nlp = spacy.load(\"en_core_web_sm\")\n",
    "import os\n",
    "\n",
    "!pip list\n",
    "\n",
    "print('All prereqs installed.')"
   ]
  },
  {
   "cell_type": "markdown",
   "metadata": {},
   "source": [
    "1. Write code that extracts the article html from https://web.archive.org/web/20210327165005/https://hackaday.com/2021/03/22/how-laser-headlights-work/ and dumps it to a .pkl (or other appropriate file)"
   ]
  },
  {
   "cell_type": "code",
   "execution_count": 40,
   "metadata": {},
   "outputs": [
    {
     "name": "stdout",
     "output_type": "stream",
     "text": [
      "Article title: How Laser Headlights Work\n"
     ]
    }
   ],
   "source": [
    "article_page = requests.get('https://web.archive.org/web/20210327165005/https://hackaday.com/2021/03/22/how-laser-headlights-work/')\n",
    "article_html = article_page.text\n",
    "\n",
    "# pickle works similar to json, but stores information in a binary format\n",
    "# json files are readable by humans, pickle files, not so much\n",
    "\n",
    "# BeautifulSoup objects don't pickle well, so it's appropriate and polite to web developers to cache the text of the web page, or just dump it to an html file you can read in later as a regular file\n",
    "import pickle\n",
    "with open('article.pkl', 'wb') as f:\n",
    "    pickle.dump(article_page.text, f)\n",
    "    \n",
    "with open('article.pkl', 'rb') as f:\n",
    "    article_html = pickle.load(f)\n",
    "# Now we can use BeautifulSoup to parse the HTML\n",
    "soup = BeautifulSoup(article_html, 'html.parser')\n",
    "# We can use the soup object to find the title of the article\n",
    "article_title = soup.find('h1', class_='entry-title').text\n",
    "print(f'Article title: {article_title}')"
   ]
  },
  {
   "cell_type": "markdown",
   "metadata": {},
   "source": [
    "2. Read in your article's html source from the file you created in question 1 and print it's text (use `.get_text()`)"
   ]
  },
  {
   "cell_type": "code",
   "execution_count": 41,
   "metadata": {},
   "outputs": [
    {
     "name": "stdout",
     "output_type": "stream",
     "text": [
      "Article text:\n",
      "When we think about the onward march of automotive technology, headlights aren’t usually the first thing that come to mind\n",
      "\n",
      "Engines, fuel efficiency, and the switch to electric power are all more front of mind\n",
      "\n",
      "However, that doesn’t mean there aren’t thousands of engineers around the world working to improve the state of the art in automotive lighting day in, day out\n",
      "\n",
      "Sealed beam headlights gave way to more modern designs once regulations loosened up, while bulbs moved from simple halogens to xenon HIDs and, more recently, LEDs\n",
      "\n",
      "Now, a new technology is on the scene, with lasers!  Laser Headlights?! BWM’s prototype laser headlight assemblies undergoing testing\n",
      "\n",
      "The first image brought to mind by the phrase “laser headlights” is that of laser beams firing out the front of an automobile\n",
      "\n",
      "Obviously, coherent beams of monochromatic light would make for poor illumination outside of a very specific spot quite some distance away\n",
      "\n",
      "Thankfully for our eyes, laser headlights don’t work in this way at all\n",
      "\n",
      "Instead, laser headlights consist of one or more solid state laser diodes mounted inside the headlight\n",
      "\n",
      "These blue lasers are fired at a yellow phosphor, similar to that used in white LEDs\n",
      "\n",
      "This produces a powerful, vibrant white light that can then be bounced off reflectors and out of the headlights towards the road\n",
      "\n",
      "Laser headlights built in this way have several benefits\n",
      "\n",
      "They’re more energy efficient than LEDs that put out the same amount of light, while also being more space efficient, too\n",
      "\n",
      "BWM’s futuristic i8 was one of the first vehicles to ship with laser headlight technology\n",
      "\n",
      "Laser headlights are still a nascent technology, thus far only appearing in a few BMW, Audi, and other select vehicles\n",
      "\n",
      "BMW’s technology was developed in partnership with lighting experts OSRAM\n",
      "\n",
      "In practice, a regular LED low-beam lamp is used, with the laser used to create an incredibly bright and focused spot, used for high-beams\n",
      "\n",
      "This can provide illumination out to 600 meters ahead of the vehicle, double that of conventional LED high beams\n",
      "\n",
      "The lights use indium gallium nitride diode lasers that were originally used in projectors, with power levels above 1 watt\n",
      "\n",
      "One of the challenges in implementing such technology in an automotive environment is the need for it to operate at temperature extremes\n",
      "\n",
      "While research lasers and laser pointers may primarily be used at typical room temperatures, automotive headlights must be able to withstand everything from 40 degrees below zero up to 50 degrees C\n",
      "\n",
      "Thankfully, the laser’s high efficiency means it doesn’t have huge heat output of its own to further complicate things\n",
      "\n",
      "Other engineering challenges involve tailoring the optics package for the rough-and-tumble, high vibration environment found in the automotive application\n",
      "\n",
      "It’s also important to ensure, as with any such device, that the end user can’t be exposed to harmful laser radiation in the event of accident or malfunction\n",
      "\n",
      "Tearing Down the Laser Headlight A marketing image showing the construction of an aftermarket LED/laser headlight\n",
      "\n",
      "We’d take the laser power with a grain of salt — it’s difficult to imagine a 10 W laser shining directly on some small LEDs without melting a hole through the board in short order\n",
      "\n",
      "An aftermarket has sprung up too, with delightfully innovative designs\n",
      "\n",
      "Combined laser/LED headlights are readily available on Alibaba, designed as a drop in replacement for projector lamps on existing vehicles\n",
      "\n",
      "These often use an LED low-beam, and a combined LED/laser high beam, where the laser diode shoots directly at the LED phosphor to excite it further, rather than using its own\n",
      "\n",
      "These units often also come with fan cooling to keep the laser and LEDs below their maximum operational temperature\n",
      "\n",
      "Such developments are exciting, though it’s important to be wary of the performance of unknown aftermarket headlights\n",
      "\n",
      "Many aftermarket LED headlight “upgrades” fail to pass muster when it comes to real-world performance, and there’s no reason to believe hybrid LED/laser designs will be any different\n",
      "\n",
      "We’d love to pass a selection of these parts through a full IIHS test protocol, but that’s sadly beyond the scope (and budget!) of this article\n",
      "\n",
      "However, [mikeselectricstuff] has happened to lay his hands on both the BMW and aftermarket parts, tearing them all down in his workshop to see what makes them tick\n",
      "\n",
      "The differences are multitude when laid bare on the bench\n",
      "\n",
      "The AliExpress part is relatively simple, wired up no differently from a regular headlight\n",
      "\n",
      "Interestingly, however, the laser high-beam circuit runs all the time in these parts\n",
      "\n",
      "To prevent blinding other road users, a shutter is kept in place to block the light, which is moved out of the way with a solenoid when the driver turns on the high beam switch\n",
      "\n",
      "Where the aftermarket part is a little out of left field, the BMW design is another thing entirely\n",
      "\n",
      "The cutting-edge headlights are hooked up with multiple connectors and over 30 conductors, with much of the driver electron\n"
     ]
    }
   ],
   "source": [
    "# Read in the article text and use .get_text() to get the text of the article\n",
    "print('Article text:')\n",
    "# We can use the soup object to find the text of the article\n",
    "article_text = soup.find('div', class_='entry-content').get_text()\n",
    "# format text to print nicely\n",
    "article_text = article_text.replace('\\n', ' ').replace('\\r', '').strip()\n",
    "# format text to print in paragraphs\n",
    "article_text = '\\n\\n'.join(article_text.split('. '))\n",
    "# We can print the first 5000 characters of the article text to verify we have it\n",
    "print(article_text[:5000])  # Print the first 500 characters of the article text\n"
   ]
  },
  {
   "cell_type": "markdown",
   "metadata": {},
   "source": [
    "3. Load the article text into a trained `spaCy` pipeline, and determine the 5 most frequent tokens (converted to lower case).  Print the common tokens with an appropriate label.  Additionally, print the tokens their frequencies (with appropriate labels). Make sure to remove things we don't care about (punctuation, stopwords, whitespace)."
   ]
  },
  {
   "cell_type": "code",
   "execution_count": 42,
   "metadata": {},
   "outputs": [
    {
     "name": "stdout",
     "output_type": "stream",
     "text": [
      "Most common tokens:\n",
      "Token: laser, Count: 30\n",
      "Token: headlights, Count: 17\n",
      "Token: technology, Count: 10\n",
      "Token: headlight, Count: 10\n",
      "Token: led, Count: 10\n"
     ]
    },
    {
     "data": {
      "image/png": "[encoded data removed]",
      "text/plain": [
       "<Figure size 640x480 with 1 Axes>"
      ]
     },
     "metadata": {},
     "output_type": "display_data"
    }
   ],
   "source": [
    "# Load the article text into a trained spaCy pipeline, and determine the 5 most frequent tokens (converted to lower case). Print the common tokens with an appropriate label. Additionally, print the tokens their frequencies (with appropriate labels). Make sure to remove things we don't care about (punctuation, stopwords, whitespace).\n",
    "nlp = spacy.load('en_core_web_sm')\n",
    "doc = nlp(article_text)\n",
    "# Get the tokens, convert to lower case, and filter out stop words and punctuation\n",
    "tokens = [token.text.lower() for token in doc if not token.is_stop and not token.is_punct and not token.is_space]\n",
    "# Count the frequency of each token\n",
    "token_counts = Counter(tokens)\n",
    "# Get the 5 most common tokens\n",
    "most_common_tokens = token_counts.most_common(5)\n",
    "print('Most common tokens:')\n",
    "for token, count in most_common_tokens:\n",
    "    print(f'Token: {token}, Count: {count}')\n",
    "# Plot the frequencies of the 5 most common tokens\n",
    "plt.bar([token[0] for token in most_common_tokens], [token[1] for token in most_common_tokens])\n",
    "plt.xlabel('Tokens')\n",
    "plt.ylabel('Frequency')\n",
    "plt.title('Most Common Tokens in Article')\n",
    "plt.show()\n",
    "# Save the article text to a file\n",
    "with open('article.txt', 'w') as f:\n",
    "    f.write(article_text)\n"
   ]
  },
  {
   "cell_type": "markdown",
   "metadata": {},
   "source": [
    "4. Load the article text into a trained `spaCy` pipeline, and determine the 5 most frequent lemmas (converted to lower case).  Print the common lemmas with an appropriate label.  Additionally, print the lemmas with their frequencies (with appropriate labels). Make sure to remove things we don't care about (punctuation, stopwords, whitespace)."
   ]
  },
  {
   "cell_type": "code",
   "execution_count": null,
   "metadata": {},
   "outputs": [],
   "source": []
  },
  {
   "cell_type": "markdown",
   "metadata": {},
   "source": [
    "5. Define the following methods:\n",
    "    * `score_sentence_by_token(sentence, interesting_token)` that takes a sentence and a list of interesting token and returns the number of times that any of the interesting words appear in the sentence divided by the number of words in the sentence\n",
    "    * `score_sentence_by_lemma(sentence, interesting_lemmas)` that takes a sentence and a list of interesting lemmas and returns the number of times that any of the interesting lemmas appear in the sentence divided by the number of words in the sentence\n",
    "    \n",
    "You may find some of the code from the in class notes useful; feel free to use methods (rewrite them in this cell as well).  Test them by showing the score of the first sentence in your article using the frequent tokens and frequent lemmas identified in question 3."
   ]
  },
  {
   "cell_type": "code",
   "execution_count": null,
   "metadata": {},
   "outputs": [],
   "source": []
  },
  {
   "cell_type": "markdown",
   "metadata": {},
   "source": [
    "6. Make a list containing the scores (using tokens) of every sentence in the article, and plot a histogram with appropriate titles and axis labels of the scores. From your histogram, what seems to be the most common range of scores (put the answer in a comment after your code)?"
   ]
  },
  {
   "cell_type": "code",
   "execution_count": null,
   "metadata": {},
   "outputs": [],
   "source": []
  },
  {
   "cell_type": "markdown",
   "metadata": {},
   "source": [
    "7. Make a list containing the scores (using lemmas) of every sentence in the article, and plot a histogram with appropriate titles and axis labels of the scores.  From your histogram, what seems to be the most common range of scores (put the answer in a comment after your code)?"
   ]
  },
  {
   "cell_type": "code",
   "execution_count": null,
   "metadata": {},
   "outputs": [],
   "source": []
  },
  {
   "cell_type": "markdown",
   "metadata": {},
   "source": [
    "8. Which tokens and lexems would be ommitted from the lists generated in questions 3 and 4 if we only wanted to consider nouns as interesting words?  How might we change the code to only consider nouns? Put your answer in this Markdown cell (you can edit it by double clicking it)."
   ]
  }
 ],
 "metadata": {
  "kernelspec": {
   "display_name": "Python 3",
   "language": "python",
   "name": "python3"
  },
  "language_info": {
   "codemirror_mode": {
    "name": "ipython",
    "version": 3
   },
   "file_extension": ".py",
   "mimetype": "text/x-python",
   "name": "python",
   "nbconvert_exporter": "python",
   "pygments_lexer": "ipython3",
   "version": "3.9.10"
  }
 },
 "nbformat": 4,
 "nbformat_minor": 4
}
