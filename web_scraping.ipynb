{
 "cells": [
  {
   "cell_type": "markdown",
   "metadata": {},
   "source": [
    "# Web Mining and Applied NLP (44-620)\n",
    "\n",
    "## Web Scraping and NLP with Requests, BeautifulSoup, and spaCy\n",
    "\n",
    "## Branton Dawson [Web Scraping](https://github.com/bjdawson23/620-mod6-web-scraping)\n",
    "\n",
    "Perform the tasks described in the Markdown cells below.  When you have completed the assignment make sure your code cells have all been run (and have output beneath them) and ensure you have committed and pushed ALL of your changes to your assignment repository.\n",
    "\n",
    "Every question that requires you to write code will have a code cell underneath it; you may either write your entire solution in that cell or write it in a python file (`.py`), then import and run the appropriate code to answer the question."
   ]
  },
  {
   "cell_type": "code",
   "execution_count": 1,
   "metadata": {},
   "outputs": [
    {
     "name": "stdout",
     "output_type": "stream",
     "text": [
      "Package                   Version\n",
      "------------------------- --------------\n",
      "annotated-types           0.7.0\n",
      "anyio                     4.9.0\n",
      "argon2-cffi               25.1.0\n",
      "argon2-cffi-bindings      21.2.0\n",
      "arrow                     1.3.0\n",
      "asttokens                 3.0.0\n",
      "async-lru                 2.0.5\n",
      "attrs                     25.3.0\n",
      "babel                     2.17.0\n",
      "beautifulsoup4            4.13.4\n",
      "bleach                    6.2.0\n",
      "blis                      1.3.0\n",
      "catalogue                 2.0.10\n",
      "certifi                   2025.7.14\n",
      "cffi                      1.17.1\n",
      "charset-normalizer        3.4.2\n",
      "click                     8.2.1\n",
      "cloudpathlib              0.21.1\n",
      "colorama                  0.4.6\n",
      "comm                      0.2.2\n",
      "confection                0.1.5\n",
      "contourpy                 1.3.2\n",
      "cycler                    0.12.1\n",
      "cymem                     2.0.11\n",
      "debugpy                   1.8.15\n",
      "decorator                 5.2.1\n",
      "defusedxml                0.7.1\n",
      "en_core_web_sm            3.8.0\n",
      "executing                 2.2.0\n",
      "fastjsonschema            2.21.1\n",
      "fonttools                 4.59.0\n",
      "fqdn                      1.5.1\n",
      "h11                       0.16.0\n",
      "html5lib                  1.1\n",
      "httpcore                  1.0.9\n",
      "httpx                     0.28.1\n",
      "idna                      3.10\n",
      "ipykernel                 6.30.0\n",
      "ipython                   9.4.0\n",
      "ipython_pygments_lexers   1.1.1\n",
      "isoduration               20.11.0\n",
      "jedi                      0.19.2\n",
      "Jinja2                    3.1.6\n",
      "joblib                    1.5.1\n",
      "json5                     0.12.0\n",
      "jsonpointer               3.0.0\n",
      "jsonschema                4.25.0\n",
      "jsonschema-specifications 2025.4.1\n",
      "jupyter_client            8.6.3\n",
      "jupyter_core              5.8.1\n",
      "jupyter-events            0.12.0\n",
      "jupyter-lsp               2.2.6\n",
      "jupyter_server            2.16.0\n",
      "jupyter_server_terminals  0.5.3\n",
      "jupyterlab                4.4.5\n",
      "jupyterlab_pygments       0.3.0\n",
      "jupyterlab_server         2.27.3\n",
      "kiwisolver                1.4.8\n",
      "langcodes                 3.5.0\n",
      "language_data             1.3.0\n",
      "lark                      1.2.2\n",
      "marisa-trie               1.2.1\n",
      "markdown-it-py            3.0.0\n",
      "MarkupSafe                3.0.2\n",
      "matplotlib                3.10.3\n",
      "matplotlib-inline         0.1.7\n",
      "mdurl                     0.1.2\n",
      "mistune                   3.1.3\n",
      "murmurhash                1.0.13\n",
      "nbclient                  0.10.2\n",
      "nbconvert                 7.16.6\n",
      "nbformat                  5.10.4\n",
      "nest-asyncio              1.6.0\n",
      "nltk                      3.9.1\n",
      "notebook_shim             0.2.4\n",
      "numpy                     2.3.1\n",
      "overrides                 7.7.0\n",
      "packaging                 25.0\n",
      "pandocfilters             1.5.1\n",
      "parso                     0.8.4\n",
      "pillow                    11.3.0\n",
      "pip                       25.1.1\n",
      "platformdirs              4.3.8\n",
      "preshed                   3.0.10\n",
      "prometheus_client         0.22.1\n",
      "prompt_toolkit            3.0.51\n",
      "psutil                    7.0.0\n",
      "pure_eval                 0.2.3\n",
      "pycparser                 2.22\n",
      "pydantic                  2.11.7\n",
      "pydantic_core             2.33.2\n",
      "Pygments                  2.19.2\n",
      "pyparsing                 3.2.3\n",
      "python-dateutil           2.9.0.post0\n",
      "python-json-logger        3.3.0\n",
      "pywin32                   311\n",
      "pywinpty                  2.0.15\n",
      "PyYAML                    6.0.2\n",
      "pyzmq                     27.0.0\n",
      "referencing               0.36.2\n",
      "regex                     2024.11.6\n",
      "requests                  2.32.4\n",
      "rfc3339-validator         0.1.4\n",
      "rfc3986-validator         0.1.1\n",
      "rfc3987-syntax            1.1.0\n",
      "rich                      14.0.0\n",
      "rpds-py                   0.26.0\n",
      "Send2Trash                1.8.3\n",
      "setuptools                80.9.0\n",
      "shellingham               1.5.4\n",
      "six                       1.17.0\n",
      "smart_open                7.3.0.post1\n",
      "sniffio                   1.3.1\n",
      "soupsieve                 2.7\n",
      "spacy                     3.8.7\n",
      "spacy-legacy              3.0.12\n",
      "spacy-loggers             1.0.5\n",
      "spacytextblob             5.0.0\n",
      "srsly                     2.5.1\n",
      "stack-data                0.6.3\n",
      "terminado                 0.18.1\n",
      "textblob                  0.19.0\n",
      "thinc                     8.3.6\n",
      "tinycss2                  1.4.0\n",
      "tornado                   6.5.1\n",
      "tqdm                      4.67.1\n",
      "traitlets                 5.14.3\n",
      "typer                     0.16.0\n",
      "types-python-dateutil     2.9.0.20250708\n",
      "typing_extensions         4.14.1\n",
      "typing-inspection         0.4.1\n",
      "uri-template              1.3.0\n",
      "urllib3                   2.5.0\n",
      "wasabi                    1.1.3\n",
      "wcwidth                   0.2.13\n",
      "weasel                    0.4.1\n",
      "webcolors                 24.11.1\n",
      "webencodings              0.5.1\n",
      "websocket-client          1.8.0\n",
      "wheel                     0.45.1\n",
      "wrapt                     1.17.2\n",
      "All prereqs installed.\n"
     ]
    }
   ],
   "source": [
    "# Create and activate a Python virtual environment. \n",
    "# We also import pickle and Counter (included in the Python Standard Library).\n",
    "\n",
    "from collections import Counter\n",
    "import pickle\n",
    "import requests\n",
    "import spacy\n",
    "from bs4 import BeautifulSoup\n",
    "import matplotlib.pyplot as plt\n",
    "import matplotlib.pyplot as plt\n",
    "import numpy as np\n",
    "try:\n",
    "    nlp = spacy.load(\"en_core_web_sm\")\n",
    "except OSError:\n",
    "    import subprocess\n",
    "    subprocess.run([\"python\", \"-m\", \"spacy\", \"download\", \"en_core_web_sm\"])\n",
    "    nlp = spacy.load(\"en_core_web_sm\")\n",
    "import os\n",
    "\n",
    "!pip list\n",
    "\n",
    "print('All prereqs installed.')"
   ]
  },
  {
   "cell_type": "markdown",
   "metadata": {},
   "source": [
    "1. Write code that extracts the article html from https://web.archive.org/web/20210327165005/https://hackaday.com/2021/03/22/how-laser-headlights-work/ and dumps it to a .pkl (or other appropriate file)"
   ]
  },
  {
   "cell_type": "code",
   "execution_count": 2,
   "metadata": {},
   "outputs": [
    {
     "name": "stdout",
     "output_type": "stream",
     "text": [
      "Article title: How Laser Headlights Work\n"
     ]
    }
   ],
   "source": [
    "article_page = requests.get('https://web.archive.org/web/20210327165005/https://hackaday.com/2021/03/22/how-laser-headlights-work/')\n",
    "article_html = article_page.text\n",
    "\n",
    "# pickle works similar to json, but stores information in a binary format\n",
    "# json files are readable by humans, pickle files, not so much\n",
    "\n",
    "# BeautifulSoup objects don't pickle well, so it's appropriate and polite to web developers to cache the text of the web page, or just dump it to an html file you can read in later as a regular file\n",
    "import pickle\n",
    "with open('article.pkl', 'wb') as f:\n",
    "    pickle.dump(article_page.text, f)\n",
    "    \n",
    "with open('article.pkl', 'rb') as f:\n",
    "    article_html = pickle.load(f)\n",
    "# Now we can use BeautifulSoup to parse the HTML\n",
    "soup = BeautifulSoup(article_html, 'html.parser')\n",
    "# We can use the soup object to find the title of the article\n",
    "article_title = soup.find('h1', class_='entry-title').text\n",
    "print(f'Article title: {article_title}')"
   ]
  },
  {
   "cell_type": "markdown",
   "metadata": {},
   "source": [
    "2. Read in your article's html source from the file you created in question 1 and print it's text (use `.get_text()`)"
   ]
  },
  {
   "cell_type": "code",
   "execution_count": 3,
   "metadata": {},
   "outputs": [
    {
     "name": "stdout",
     "output_type": "stream",
     "text": [
      "Article text:\n",
      "When we think about the onward march of automotive technology, headlights aren’t usually the first thing that come to mind. Engines, fuel efficiency, and the switch to electric power are all more front of mind. However, that doesn’t mean there aren’t thousands of engineers around the world working to improve the state of the art in automotive lighting day in, day out. Sealed beam headlights gave way to more modern designs once regulations loosened up, while bulbs moved from simple halogens to xenon HIDs and, more recently, LEDs. Now, a new technology is on the scene, with lasers!  Laser Headlights?! BWM’s prototype laser headlight assemblies undergoing testing. The first image brought to mind by the phrase “laser headlights” is that of laser beams firing out the front of an automobile. Obviously, coherent beams of monochromatic light would make for poor illumination outside of a very specific spot quite some distance away. Thankfully for our eyes, laser headlights don’t work in this way at all. Instead, laser headlights consist of one or more solid state laser diodes mounted inside the headlight. These blue lasers are fired at a yellow phosphor, similar to that used in white LEDs. This produces a powerful, vibrant white light that can then be bounced off reflectors and out of the headlights towards the road. Laser headlights built in this way have several benefits. They’re more energy efficient than LEDs that put out the same amount of light, while also being more space efficient, too. BWM’s futuristic i8 was one of the first vehicles to ship with laser headlight technology. Laser headlights are still a nascent technology, thus far only appearing in a few BMW, Audi, and other select vehicles. BMW’s technology was developed in partnership with lighting experts OSRAM. In practice, a regular LED low-beam lamp is used, with the laser used to create an incredibly bright and focused spot, used for high-beams. This can provide illumination out to 600 meters ahead of the vehicle, double that of conventional LED high beams. The lights use indium gallium nitride diode lasers that were originally used in projectors, with power levels above 1 watt. One of the challenges in implementing such technology in an automotive environment is the need for it to operate at temperature extremes. While research lasers and laser pointers may primarily be used at typical room temperatures, automotive headlights must be able to withstand everything from 40 degrees below zero up to 50 degrees C. Thankfully, the laser’s high efficiency means it doesn’t have huge heat output of its own to further complicate things. Other engineering challenges involve tailoring the optics package for the rough-and-tumble, high vibration environment found in the automotive application. It’s also important to ensure, as with any such device, that the end user can’t be exposed to harmful laser radiation in the event of accident or malfunction. Tearing Down the Laser Headlight A marketing image showing the construction of an aftermarket LED/laser headlight. We’d take the laser power with a grain of salt — it’s difficult to imagine a 10 W laser shining directly on some small LEDs without melting a hole through the board in short order. An aftermarket has sprung up too, with delightfully innovative designs. Combined laser/LED headlights are readily available on Alibaba, designed as a drop in replacement for projector lamps on existing vehicles. These often use an LED low-beam, and a combined LED/laser high beam, where the laser diode shoots directly at the LED phosphor to excite it further, rather than using its own. These units often also come with fan cooling to keep the laser and LEDs below their maximum operational temperature. Such developments are exciting, though it’s important to be wary of the performance of unknown aftermarket headlights. Many aftermarket LED headlight “upgrades” fail to pass muster when it comes to real-world performance, and there’s no reason to believe hybrid LED/laser designs will be any different. We’d love to pass a selection of these parts through a full IIHS test protocol, but that’s sadly beyond the scope (and budget!) of this article. However, [mikeselectricstuff] has happened to lay his hands on both the BMW and aftermarket parts, tearing them all down in his workshop to see what makes them tick. The differences are multitude when laid bare on the bench. The AliExpress part is relatively simple, wired up no differently from a regular headlight. Interestingly, however, the laser high-beam circuit runs all the time in these parts. To prevent blinding other road users, a shutter is kept in place to block the light, which is moved out of the way with a solenoid when the driver turns on the high beam switch. Where the aftermarket part is a little out of left field, the BMW design is another thing entirely. The cutting-edge headlights are hooked up with multiple connectors and over 30 conductors, with much of the driver electron\n"
     ]
    }
   ],
   "source": [
    "# Read in the article text and use .get_text() to get the text of the article\n",
    "print('Article text:')\n",
    "# We can use the soup object to find the text of the article\n",
    "article_text = soup.find('div', class_='entry-content').get_text()\n",
    "# format text to print nicely\n",
    "article_text = article_text.replace('\\n', ' ').replace('\\r', '').strip()\n",
    "# format text to print in paragraphs\n",
    "# article_text = '\\n\\n'.join(article_text.split('. '))\n",
    "# We can print the first 5000 characters of the article text to verify we have it\n",
    "print(article_text[:5000])  # Print the first 500 characters of the article text\n"
   ]
  },
  {
   "cell_type": "markdown",
   "metadata": {},
   "source": [
    "3. Load the article text into a trained `spaCy` pipeline, and determine the 5 most frequent tokens (converted to lower case).  Print the common tokens with an appropriate label.  Additionally, print the tokens their frequencies (with appropriate labels). Make sure to remove things we don't care about (punctuation, stopwords, whitespace)."
   ]
  },
  {
   "cell_type": "code",
   "execution_count": 4,
   "metadata": {},
   "outputs": [
    {
     "name": "stdout",
     "output_type": "stream",
     "text": [
      "Most common tokens:\n",
      "Token: laser, Count: 30\n",
      "Token: headlights, Count: 17\n",
      "Token: technology, Count: 10\n",
      "Token: headlight, Count: 10\n",
      "Token: led, Count: 10\n"
     ]
    },
    {
     "data": {
      "image/png": "[encoded data removed]",
      "text/plain": [
       "<Figure size 640x480 with 1 Axes>"
      ]
     },
     "metadata": {},
     "output_type": "display_data"
    }
   ],
   "source": [
    "# Determine the 5 most frequent tokens (converted to lower case). Print the common tokens with an appropriate label and frequencies.\n",
    "nlp = spacy.load('en_core_web_sm')\n",
    "doc = nlp(article_text)\n",
    "# Get the tokens, convert to lower case, and filter out stop words and punctuation\n",
    "tokens = [token.text.lower() for token in doc if not token.is_stop and not token.is_punct and not token.is_space]\n",
    "# Count the frequency of each token\n",
    "token_counts = Counter(tokens)\n",
    "# Get the 5 most common tokens\n",
    "most_common_tokens = token_counts.most_common(5)\n",
    "print('Most common tokens:')\n",
    "for token, count in most_common_tokens:\n",
    "    print(f'Token: {token}, Count: {count}')\n",
    "# Plot the frequencies of the 5 most common tokens\n",
    "plt.bar([token[0] for token in most_common_tokens], [token[1] for token in most_common_tokens])\n",
    "plt.xlabel('Tokens')\n",
    "plt.ylabel('Frequency')\n",
    "plt.title('Most Common Tokens in Article')\n",
    "plt.show()\n",
    "# Save the article text to a file\n",
    "with open('article.txt', 'w') as f:\n",
    "    f.write(article_text)\n"
   ]
  },
  {
   "cell_type": "markdown",
   "metadata": {},
   "source": [
    "4. Load the article text into a trained `spaCy` pipeline, and determine the 5 most frequent lemmas (converted to lower case).  Print the common lemmas with an appropriate label.  Additionally, print the lemmas with their frequencies (with appropriate labels). Make sure to remove things we don't care about (punctuation, stopwords, whitespace)."
   ]
  },
  {
   "cell_type": "code",
   "execution_count": 5,
   "metadata": {},
   "outputs": [
    {
     "name": "stdout",
     "output_type": "stream",
     "text": [
      "Most common lemmas:\n",
      "Lemma: laser, Count: 35\n",
      "Lemma: headlight, Count: 26\n",
      "Lemma: beam, Count: 12\n",
      "Lemma: technology, Count: 10\n",
      "Lemma: led, Count: 10\n"
     ]
    },
    {
     "data": {
      "image/png": "[encoded data removed]",
      "text/plain": [
       "<Figure size 640x480 with 1 Axes>"
      ]
     },
     "metadata": {},
     "output_type": "display_data"
    }
   ],
   "source": [
    "# determine the 5 most frequent lemmas (converted to lower case) and print the common lemmas with an appropriate label amd frequencies.\n",
    "doc = nlp(article_text)\n",
    "# Get the lemmas, convert to lower case, and filter out stop words and punctuation\n",
    "lemmas = [token.lemma_.lower() for token in doc if not token.is_stop and not token.is_punct and not token.is_space]\n",
    "# Count the frequency of each lemma\n",
    "lemma_counts = Counter(lemmas)\n",
    "# Get the 5 most common lemmas\n",
    "most_common_lemmas = lemma_counts.most_common(5)\n",
    "print('Most common lemmas:')\n",
    "for lemma, count in most_common_lemmas:\n",
    "    print(f'Lemma: {lemma}, Count: {count}')\n",
    "# Plot the frequencies of the 5 most common lemmas\n",
    "plt.bar([lemma[0] for lemma in most_common_lemmas], [lemma[1] for lemma in most_common_lemmas])\n",
    "plt.xlabel('Lemmas')\n",
    "plt.ylabel('Frequency')\n",
    "plt.title('Most Common Lemmas in Article')\n",
    "plt.show()\n",
    "# Save the article text to a file\n",
    "with open('article.txt', 'w') as f:\n",
    "    f.write(article_text)\n"
   ]
  },
  {
   "cell_type": "markdown",
   "metadata": {},
   "source": [
    "5. Define the following methods:\n",
    "    * `score_sentence_by_token(sentence, interesting_token)` that takes a sentence and a list of interesting token and returns the number of times that any of the interesting words appear in the sentence divided by the number of words in the sentence\n",
    "    * `score_sentence_by_lemma(sentence, interesting_lemmas)` that takes a sentence and a list of interesting lemmas and returns the number of times that any of the interesting lemmas appear in the sentence divided by the number of words in the sentence\n",
    "    \n",
    "You may find some of the code from the in class notes useful; feel free to use methods (rewrite them in this cell as well).  Test them by showing the score of the first sentence in your article using the frequent tokens and frequent lemmas identified in question 3."
   ]
  },
  {
   "cell_type": "code",
   "execution_count": 6,
   "metadata": {},
   "outputs": [
    {
     "name": "stdout",
     "output_type": "stream",
     "text": [
      "Score of first sentence by token: 0.0\n",
      "Score of first sentence by lemma: 0.045454545454545456\n"
     ]
    }
   ],
   "source": [
    "# List interesting token and returns the number of times that any of the interesting words appear in the sentence divided by the number of words in the sentence\n",
    "# Load a language model\n",
    "nlp = spacy.load(\"en_core_web_sm\")\n",
    "\n",
    "def score_sentence_by_token(sentence, interesting_tokens):\n",
    "    \"\"\"\n",
    "    Calculates the ratio of interesting tokens in a sentence based on exact word matches.\n",
    "    \"\"\"\n",
    "    doc = nlp(sentence)\n",
    "    total_tokens = len(doc)\n",
    "    count = sum(1 for token in doc if token.text.lower() in interesting_tokens)\n",
    "    return count / total_tokens if total_tokens > 0 else 0.0\n",
    "\n",
    "def score_sentence_by_lemma(sentence, interesting_lemmas):\n",
    "    \"\"\"\n",
    "    Calculates the ratio of interesting tokens based on lemma matches.\n",
    "    \"\"\"\n",
    "    doc = nlp(sentence)\n",
    "    total_tokens = len(doc)\n",
    "    count = sum(1 for token in doc if token.lemma_.lower() in interesting_lemmas)\n",
    "    return count / total_tokens if total_tokens > 0 else 0.0\n",
    "# Show the score of the first sentence in the article\n",
    "interesting_tokens = ['laser', 'headlight', 'work', 'light', 'car']\n",
    "interesting_lemmas = ['laser', 'headlight', 'work', 'light', 'car']\n",
    "first_sentence = article_text.split('.')[0]\n",
    "print(f'Score of first sentence by token: {score_sentence_by_token(first_sentence, interesting_tokens)}')\n",
    "print(f'Score of first sentence by lemma: {score_sentence_by_lemma(first_sentence, interesting_lemmas)}')\n"
   ]
  },
  {
   "cell_type": "markdown",
   "metadata": {},
   "source": [
    "6. Make a list containing the scores (using tokens) of every sentence in the article, and plot a histogram with appropriate titles and axis labels of the scores. From your histogram, what seems to be the most common range of scores (put the answer in a comment after your code)?"
   ]
  },
  {
   "cell_type": "code",
   "execution_count": 7,
   "metadata": {},
   "outputs": [
    {
     "data": {
      "image/png": "[encoded data removed]",
      "text/plain": [
       "<Figure size 800x500 with 1 Axes>"
      ]
     },
     "metadata": {},
     "output_type": "display_data"
    }
   ],
   "source": [
    "# Make a list containing the scores (using tokens) of every sentence in the article, and plot a histogram with appropriate titles and axis labels of the scores. From your histogram, what seems to be the most common range of scores (put the answer in a comment after your code)\n",
    "# Load the language model\n",
    "nlp = spacy.load(\"en_core_web_sm\")\n",
    "\n",
    "# Token scoring function from article.text\n",
    "def score_sentence_by_token(sentence, interesting_tokens):\n",
    "    doc = nlp(sentence)\n",
    "    total_tokens = len(doc)\n",
    "    count = sum(1 for token in doc if token.text.lower() in interesting_tokens)\n",
    "    return count / total_tokens if total_tokens > 0 else 0.0\n",
    "\n",
    "# Define tokens of interest (use your most common tokens from earlier)\n",
    "interesting_tokens = ['laser', 'headlight', 'work', 'light', 'car']\n",
    "\n",
    "# Use spaCy to split sentences properly\n",
    "doc = nlp(article_text)\n",
    "sentences = [sent.text.strip() for sent in doc.sents]\n",
    "\n",
    "# Score each sentence\n",
    "scores = [score_sentence_by_token(sentence, interesting_tokens) for sentence in sentences]\n",
    "\n",
    "# Plot histogram\n",
    "plt.figure(figsize=(8, 5))\n",
    "plt.hist(scores, bins=10, edgecolor='black', color='skyblue')\n",
    "plt.xlabel('Token-Based Score')\n",
    "plt.ylabel('Number of Sentences')\n",
    "plt.title('Histogram of Sentence Scores Using Tokens')\n",
    "plt.grid(True)\n",
    "plt.tight_layout()\n",
    "plt.show()\n",
    "\n",
    "# Most common range of scores: 0.0 to 0.1"
   ]
  },
  {
   "cell_type": "markdown",
   "metadata": {},
   "source": [
    "7. Make a list containing the scores (using lemmas) of every sentence in the article, and plot a histogram with appropriate titles and axis labels of the scores.  From your histogram, what seems to be the most common range of scores (put the answer in a comment after your code)?"
   ]
  },
  {
   "cell_type": "code",
   "execution_count": 8,
   "metadata": {},
   "outputs": [
    {
     "name": "stdout",
     "output_type": "stream",
     "text": [
      "Lemma scores for all sentences:\n",
      "Sentence 1: 0.043478260869565216\n",
      "Sentence 2: 0.0\n",
      "Sentence 3: 0.03125\n",
      "Sentence 4: 0.03333333333333333\n",
      "Sentence 5: 0.07692307692307693\n",
      "Sentence 6: 0.25\n",
      "Sentence 7: 0.2222222222222222\n",
      "Sentence 8: 0.11538461538461539\n",
      "Sentence 9: 0.043478260869565216\n",
      "Sentence 10: 0.1875\n",
      "Sentence 11: 0.2222222222222222\n",
      "Sentence 12: 0.05555555555555555\n",
      "Sentence 13: 0.08333333333333333\n",
      "Sentence 14: 0.2\n",
      "Sentence 15: 0.04\n",
      "Sentence 16: 0.11764705882352941\n",
      "Sentence 17: 0.08333333333333333\n",
      "Sentence 18: 0.0\n",
      "Sentence 19: 0.03125\n",
      "Sentence 20: 0.0\n",
      "Sentence 21: 0.09090909090909091\n",
      "Sentence 22: 0.0\n",
      "Sentence 23: 0.07142857142857142\n",
      "Sentence 24: 0.0\n",
      "Sentence 25: 0.030303030303030304\n",
      "Sentence 26: 0.21052631578947367\n",
      "Sentence 27: 0.05263157894736842\n",
      "Sentence 28: 0.0\n",
      "Sentence 29: 0.08333333333333333\n",
      "Sentence 30: 0.05128205128205128\n",
      "Sentence 31: 0.05\n",
      "Sentence 32: 0.05\n",
      "Sentence 33: 0.05405405405405406\n",
      "Sentence 34: 0.0\n",
      "Sentence 35: 0.0\n",
      "Sentence 36: 0.0\n",
      "Sentence 37: 0.0\n",
      "Sentence 38: 0.0625\n",
      "Sentence 39: 0.05555555555555555\n",
      "Sentence 40: 0.02631578947368421\n",
      "Sentence 41: 0.0\n",
      "Sentence 42: 0.03571428571428571\n",
      "Sentence 43: 0.05263157894736842\n",
      "Sentence 44: 0.1\n",
      "Sentence 45: 0.11363636363636363\n",
      "Sentence 46: 0.0625\n",
      "Sentence 47: 0.0\n",
      "Sentence 48: 0.09090909090909091\n",
      "Sentence 49: 0.0\n",
      "Sentence 50: 0.10344827586206896\n",
      "Sentence 51: 0.0\n",
      "Sentence 52: 0.16\n",
      "Sentence 53: 0.03333333333333333\n",
      "Sentence 54: 0.03571428571428571\n",
      "Sentence 55: 0.041666666666666664\n"
     ]
    },
    {
     "data": {
      "image/png": "[encoded data removed]",
      "text/plain": [
       "<Figure size 800x500 with 1 Axes>"
      ]
     },
     "metadata": {},
     "output_type": "display_data"
    }
   ],
   "source": [
    "# Make a list containing the scores (using lemmas) of every sentence in the article, and plot a histogram with appropriate titles and axis labels of the scores.\n",
    "# Load the language model\n",
    "nlp = spacy.load(\"en_core_web_sm\")\n",
    "\n",
    "# Lemma scoring function\n",
    "def score_sentence_by_lemma(sentence, interesting_lemmas):\n",
    "    doc = nlp(sentence)\n",
    "    total_tokens = len(doc)\n",
    "    count = sum(1 for token in doc if token.lemma_.lower() in interesting_lemmas)\n",
    "    return count / total_tokens if total_tokens > 0 else 0.0\n",
    "\n",
    "# Define lemmas of interest (use your most common lemmas from earlier)\n",
    "interesting_lemmas = ['laser', 'headlight', 'work', 'light', 'car']\n",
    "\n",
    "# Use spaCy to split sentences properly\n",
    "doc = nlp(article_text)\n",
    "sentences = [sent.text.strip() for sent in doc.sents]\n",
    "\n",
    "# Score all sentence by lemma\n",
    "lemma_scores = [score_sentence_by_lemma(sentence, interesting_lemmas) for sentence in sentences]\n",
    "# Print all lemma scores\n",
    "print('Lemma scores for all sentences:')\n",
    "for i, score in enumerate(lemma_scores):\n",
    "    print(f'Sentence {i+1}: {score}')\n",
    "# Plot histogram of all lemma scores for all sentences\n",
    "plt.figure(figsize=(8, 5))\n",
    "plt.hist(lemma_scores, bins=10, edgecolor='black', color='salmon')\n",
    "plt.xlabel('Lemma-Based Score')\n",
    "plt.ylabel('Number of Sentences')\n",
    "plt.title('Histogram of Sentence Scores Using Lemmas')\n",
    "plt.grid(True)\n",
    "plt.tight_layout()\n",
    "plt.show()\n",
    "\n",
    "# Most common range of scores: 0.0 to 0.1"
   ]
  },
  {
   "cell_type": "markdown",
   "metadata": {},
   "source": [
    "8. Which tokens and lexems would be ommitted from the lists generated in questions 3 and 4 if we only wanted to consider nouns as interesting words?  How might we change the code to only consider nouns? Put your answer in this Markdown cell (you can edit it by double clicking it).\n",
    "\n",
    "~~~\n",
    "# Only include nouns\n",
    "tokens = [token.text.lower() for token in doc if token.pos_ in [\"NOUN\", \"PROPN\"] and not token.is_stop and not token.is_punct and not token.is_space]\n",
    "lemmas = [token.lemma_.lower() for token in doc if token.pos_ in [\"NOUN\", \"PROPN\"] and not token.is_stop and not token.is_punct and not token.is_space]\n",
    "~~~"
   ]
  }
 ],
 "metadata": {
  "kernelspec": {
   "display_name": ".venv",
   "language": "python",
   "name": "python3"
  },
  "language_info": {
   "codemirror_mode": {
    "name": "ipython",
    "version": 3
   },
   "file_extension": ".py",
   "mimetype": "text/x-python",
   "name": "python",
   "nbconvert_exporter": "python",
   "pygments_lexer": "ipython3",
   "version": "3.13.5"
  }
 },
 "nbformat": 4,
 "nbformat_minor": 4
}
